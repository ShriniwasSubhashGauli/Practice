{
 "cells": [
  {
   "cell_type": "markdown",
   "metadata": {},
   "source": [
    "Write a Python Program to implement your own myreduce() function which works exactly like\n",
    "Python's built-in function reduce()"
   ]
  },
  {
   "cell_type": "code",
   "execution_count": 3,
   "metadata": {},
   "outputs": [
    {
     "name": "stdout",
     "output_type": "stream",
     "text": [
      "7\n"
     ]
    }
   ],
   "source": [
    "#define myreduce function. My function identifies minimum and gives minimum output result\n",
    "def myreduce(minimum,lst1):\n",
    "    for i in lst1:\n",
    "        minimum = min(lst1)\n",
    "        return minimum\n",
    "#call myreduce function and print the output\n",
    "lst1=[7,10,100,3000,50]\n",
    "minimum = 0 \n",
    "print(myreduce(minimum,lst1))\n",
    "    "
   ]
  },
  {
   "cell_type": "markdown",
   "metadata": {},
   "source": [
    "Write a Python program to implement your own myfilter() function which works exactly like\n",
    "Python's built-in function filter"
   ]
  },
  {
   "cell_type": "code",
   "execution_count": 4,
   "metadata": {},
   "outputs": [
    {
     "name": "stdout",
     "output_type": "stream",
     "text": [
      "[2, 4, 6, 8, 10]\n"
     ]
    }
   ],
   "source": [
    "def myfilter(retseq,seq):\n",
    "    for i in seq :\n",
    "        if i%2 == 0:\n",
    "            retseq.append(i)\n",
    "    return retseq\n",
    "#call my filter function and print the output\n",
    "retseq = []\n",
    "seq = [1,2,3,4,5,6,7,8,9,10]\n",
    "print(myfilter(retseq,seq))\n",
    "#output is list of even numbers."
   ]
  },
  {
   "cell_type": "markdown",
   "metadata": {},
   "source": [
    "Implement List comprehensions to produce the following lists.\n",
    "Write List comprehensions to produce the following Lists\n",
    "['A', 'C', 'A', 'D', 'G', 'I', ’L’, ‘ D’]"
   ]
  },
  {
   "cell_type": "code",
   "execution_count": 5,
   "metadata": {},
   "outputs": [
    {
     "name": "stdout",
     "output_type": "stream",
     "text": [
      "['A', 'C', 'A', 'D', 'G', 'I', 'L', 'D']\n"
     ]
    }
   ],
   "source": [
    "\n",
    "listofwords = 'ACADGILD'\n",
    "items = [word for word in listofwords]\n",
    "print(items)\n",
    "#output is as below."
   ]
  },
  {
   "cell_type": "markdown",
   "metadata": {},
   "source": [
    "['x', 'xx', 'xxx', 'xxxx', 'y', 'yy', 'yyy', 'yyyy', 'z', 'zz', 'zzz', 'zzzz']"
   ]
  },
  {
   "cell_type": "code",
   "execution_count": 12,
   "metadata": {},
   "outputs": [
    {
     "name": "stdout",
     "output_type": "stream",
     "text": [
      "['x', 'xx', 'xxx', 'xxxx', 'y', 'yy', 'yyy', 'yyyy', 'z', 'zz', 'zzz', 'zzzz']\n"
     ]
    }
   ],
   "source": [
    "xyz=['x','y','z']\n",
    "listxyz = [ex*num for ex in xyz for num in range(1,5)]\n",
    "print(listxyz)"
   ]
  },
  {
   "cell_type": "markdown",
   "metadata": {},
   "source": [
    "['x', 'y', 'z', 'xx', 'yy', 'zz', 'xx', 'yy', 'zz', 'xxxx', 'yyyy', 'zzzz']\n"
   ]
  },
  {
   "cell_type": "code",
   "execution_count": 13,
   "metadata": {},
   "outputs": [
    {
     "name": "stdout",
     "output_type": "stream",
     "text": [
      "['x', 'y', 'z', 'xx', 'yy', 'zz', 'xxx', 'yyy', 'zzz', 'xxxx', 'yyyy', 'zzzz']\n"
     ]
    }
   ],
   "source": [
    "xyz1=['x','y','z']\n",
    "listxyz1 = [ex*num for num in range(1,5) for ex in xyz1]\n",
    "print(listxyz1)"
   ]
  },
  {
   "cell_type": "markdown",
   "metadata": {},
   "source": [
    "[[2], [3], [4], [3], [4], [5], [4], [5], [6]]\n"
   ]
  },
  {
   "cell_type": "code",
   "execution_count": 16,
   "metadata": {},
   "outputs": [
    {
     "name": "stdout",
     "output_type": "stream",
     "text": [
      "[[[2], [3], [4]], [[3], [4], [5]], [[4], [5], [6]]]\n"
     ]
    }
   ],
   "source": [
    "list1 = [[[x],[x+1],[x+2] ]for x in range(2,5)]\n",
    "print(list1)"
   ]
  },
  {
   "cell_type": "code",
   "execution_count": null,
   "metadata": {},
   "outputs": [],
   "source": []
  },
  {
   "cell_type": "markdown",
   "metadata": {},
   "source": [
    "[[2, 3, 4, 5], [3, 4, 5, 6], [4, 5, 6, 7], [5, 6, 7, 8]]\n",
    "\n"
   ]
  },
  {
   "cell_type": "code",
   "execution_count": 18,
   "metadata": {},
   "outputs": [
    {
     "name": "stdout",
     "output_type": "stream",
     "text": [
      "[[2, 3, 4, 5], [3, 4, 5, 6], [4, 5, 6, 7], [5, 6, 7, 8]]\n"
     ]
    }
   ],
   "source": [
    "list2 = [[x,x+1,x+2,x+3] for x in range(2,6)]\n",
    "print(list2)"
   ]
  },
  {
   "cell_type": "code",
   "execution_count": null,
   "metadata": {},
   "outputs": [],
   "source": []
  },
  {
   "cell_type": "markdown",
   "metadata": {},
   "source": [
    "[(1, 1), (2, 1), (3, 1), (1, 2), (2, 2), (3, 2), (1, 3), (2, 3), (3, 3)]"
   ]
  },
  {
   "cell_type": "code",
   "execution_count": 22,
   "metadata": {},
   "outputs": [
    {
     "name": "stdout",
     "output_type": "stream",
     "text": [
      "[(1, 1), (2, 1), (3, 1), (1, 2), (2, 2), (3, 2), (1, 3), (2, 3), (3, 3)]\n"
     ]
    }
   ],
   "source": [
    "\n",
    "list3 = [(i,j) for j in range(1,4) for i in range(1,4)]\n",
    "print(list3)"
   ]
  },
  {
   "cell_type": "markdown",
   "metadata": {},
   "source": [
    "Implement a function longestWord() that takes a list of words and returns the longest one.\n"
   ]
  },
  {
   "cell_type": "code",
   "execution_count": 24,
   "metadata": {},
   "outputs": [
    {
     "name": "stdout",
     "output_type": "stream",
     "text": [
      "enter few wordsMy Name is Shriniwas\n",
      "user inputs words were :- ['My', 'Name', 'is', 'Shriniwas']\n",
      "longestword from the user inputs words :-  Shriniwas\n"
     ]
    }
   ],
   "source": [
    "#define the function takes string as inputs and converts to list\n",
    "def longestword(listofwords):\n",
    "    list12 = listofwords.split()\n",
    "    print(\"user inputs words were :-\",list12)\n",
    "    return (max(list12,key=len))\n",
    "#user to inputs words\n",
    "listofwords = input(\"enter few words\")\n",
    "#Call function and print the longest words\n",
    "print(\"longestword from the user inputs words :- \",longestword(listofwords))\n",
    "#output is as below."
   ]
  },
  {
   "cell_type": "markdown",
   "metadata": {},
   "source": [
    "Task 2  \n",
    "Write a Python Program(with class concepts) to find the area of the triangle using the below\n",
    "formula.\n",
    "area = (s*(s-a)*(s-b)*(s-c)) ** 0.5\n",
    "Function to take the length of the sides of triangle from user should be defined in the parent\n",
    "class and function to calculate the area should be defined in subclass."
   ]
  },
  {
   "cell_type": "code",
   "execution_count": 40,
   "metadata": {},
   "outputs": [
    {
     "name": "stdout",
     "output_type": "stream",
     "text": [
      "length of trinangle side a 10 \n",
      "length of trinangle side b10 \n",
      "length of trinangle side c10\n"
     ]
    }
   ],
   "source": [
    "class lengthofsides :\n",
    "     def __init__(self,a,b,c):\n",
    "        a = int(input(\"length of trinangle side a\"))\n",
    "        b = int(input(\"length of trinangle side b\"))\n",
    "        c = int(input(\"length of trinangle side c\"))\n",
    "        self.a = a\n",
    "        self.b = b\n",
    "        self.c = c\n",
    "class areaoftriangle(lengthofsides):\n",
    "    def areacalc(a,b,c):\n",
    "        s = ((a+b+c)/2)\n",
    "        area = (s*(s-a)*(s-b)*(s-c)) ** 0.5 \n",
    "        print(\"area of tringle\",area) \n",
    "        return s\n",
    "objarea = areaoftriangle(10,10,10)\n",
    "#output is as below."
   ]
  },
  {
   "cell_type": "markdown",
   "metadata": {},
   "source": [
    "Write a function filter_long_words() that takes a list of words and an integer n and returns the list\n",
    "of words that are longer than n.\n",
    "2.1"
   ]
  },
  {
   "cell_type": "code",
   "execution_count": 43,
   "metadata": {},
   "outputs": [
    {
     "name": "stdout",
     "output_type": "stream",
     "text": [
      "write the list of wordsHOw are you friend\n",
      "enter the integer you want to see the longer words2\n",
      "user entered list of words ['HOw', 'are', 'you', 'friend']\n",
      "user entered integern 2\n",
      "output of the programme:- ['HOw', 'are', 'you', 'friend']\n"
     ]
    }
   ],
   "source": [
    "def filter_long_words(string1,integern,list2):\n",
    "    list1 = string1.split()re you friend\n",
    "    print(\"user entered list of words\",list1)\n",
    "    print(\"user entered integern\",integern)\n",
    "    for i in list1:\n",
    "        if len(i) > integern:\n",
    "            list2.append(i)\n",
    "    return list2\n",
    "string1 = input(\"write the list of words\")\n",
    "integern = int(input(\"enter the integer you want to see the longer words\"))\n",
    "list2 = []\n",
    "filter_long_words(string1,integern,list2)\n",
    "print(\"output of the programme:-\",list2)\n",
    "#output is as below."
   ]
  },
  {
   "cell_type": "code",
   "execution_count": null,
   "metadata": {},
   "outputs": [],
   "source": [
    "Write a Python program using function concept that maps list of words into a list of integers\n",
    "representing the lengths of the corresponding words."
   ]
  },
  {
   "cell_type": "code",
   "execution_count": 44,
   "metadata": {},
   "outputs": [
    {
     "name": "stdout",
     "output_type": "stream",
     "text": [
      "[1, 3, 4, 5]\n"
     ]
    }
   ],
   "source": [
    "#inputs words\n",
    "listofwords = ['a','bcd','efgh','ghijk']\n",
    "def countlistwords(listofwords):\n",
    "    listcount = []\n",
    "    for i in listofwords :\n",
    "        listcount.append(int(len(i)))\n",
    "    return listcount\n",
    "#output by calling a function\n",
    "print(countlistwords(listofwords))\n",
    "#output is as below."
   ]
  },
  {
   "cell_type": "markdown",
   "metadata": {},
   "source": [
    "Write a Python function which takes a character (i.e. a string of length 1) and returns True if it is\n",
    "a vowel, False otherwise."
   ]
  },
  {
   "cell_type": "code",
   "execution_count": 47,
   "metadata": {},
   "outputs": [
    {
     "name": "stdout",
     "output_type": "stream",
     "text": [
      "input the single character to check vowelse\n",
      "entered value is  e\n",
      "True for vowels, false for non-vowels answer is :\n",
      "True\n"
     ]
    }
   ],
   "source": [
    "#define a function\n",
    "def inputchar(i) :\n",
    "#convert it to lower case if the user has entered the upper case\n",
    "    if len(i) == 1 :\n",
    "        print(\"entered value is \",i)\n",
    "    else:\n",
    "        print(\"please enter the value of one alphabet\")\n",
    "#check whether user has entered a,e,i,o,u\n",
    "    print(\"True for vowels, false for non-vowels answer is :\")\n",
    "    if i in ('a','e','i','o','u'):\n",
    "       return True\n",
    "    else : \n",
    "       return false\n",
    "i = input(\"input the single character to check vowels\")\n",
    "print(inputchar(i))\n",
    "#output is as below."
   ]
  },
  {
   "cell_type": "code",
   "execution_count": null,
   "metadata": {},
   "outputs": [],
   "source": []
  },
  {
   "cell_type": "code",
   "execution_count": null,
   "metadata": {},
   "outputs": [],
   "source": []
  }
 ],
 "metadata": {
  "kernelspec": {
   "display_name": "Python 3",
   "language": "python",
   "name": "python3"
  },
  "language_info": {
   "codemirror_mode": {
    "name": "ipython",
    "version": 3
   },
   "file_extension": ".py",
   "mimetype": "text/x-python",
   "name": "python",
   "nbconvert_exporter": "python",
   "pygments_lexer": "ipython3",
   "version": "3.7.4"
  }
 },
 "nbformat": 4,
 "nbformat_minor": 2
}
